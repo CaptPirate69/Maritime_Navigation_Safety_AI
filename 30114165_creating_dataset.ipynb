{
  "nbformat": 4,
  "nbformat_minor": 0,
  "metadata": {
    "colab": {
      "provenance": []
    },
    "kernelspec": {
      "name": "python3",
      "display_name": "Python 3"
    },
    "language_info": {
      "name": "python"
    }
  },
  "cells": [
    {
      "cell_type": "markdown",
      "source": [
        "# Step 1: Upload the Images ZIP file\n",
        "This step prompts you to upload a ZIP file containing images from your computer to Colab. Once the file is uploaded, its name is stored in the `zip_file_name` variable for further processing."
      ],
      "metadata": {
        "id": "rjICj1zSb7-Z"
      }
    },
    {
      "cell_type": "code",
      "source": [
        "from google.colab import files\n",
        "uploaded = files.upload()\n",
        "\n",
        "zip_file_name = next(iter(uploaded.keys()))"
      ],
      "metadata": {
        "id": "mpB-sgvQb1zl"
      },
      "execution_count": null,
      "outputs": []
    },
    {
      "cell_type": "markdown",
      "source": [
        "# Step 2: Import necessary libraries and then Define the path to the uploaded zip file\n",
        "In this step,import the necessary libraries to handle files and data, then define the path to the uploaded ZIP file (which contains images). A new folder called \"images\" is created, and the contents of the ZIP file are extracted into this folder for further processing."
      ],
      "metadata": {
        "id": "va94zXBWcsT7"
      }
    },
    {
      "cell_type": "code",
      "source": [
        "import os\n",
        "import zipfile\n",
        "import pandas as pd\n",
        "from shutil import copyfile, make_archive\n",
        "\n",
        "\n",
        "zip_file_path = zip_file_name\n",
        "extracted_folder_path = 'images/'\n",
        "\n",
        "os.makedirs(extracted_folder_path, exist_ok=True)\n",
        "\n",
        "with zipfile.ZipFile(zip_file_path, 'r') as zip_ref:\n",
        "    zip_ref.extractall(extracted_folder_path)"
      ],
      "metadata": {
        "id": "dI3ZpsPZb6pF"
      },
      "execution_count": null,
      "outputs": []
    },
    {
      "cell_type": "markdown",
      "source": [
        "# Step 3:Define the metadata for each buoy type\n",
        "In this step, hve define metadata for eight different types of navigation buoys. For each buoy type, the metadata includes a label describing what the buoy represents and a detailed description, explaining its purpose and safety instructions. This information will be used to classify and explain the buoy types in later steps."
      ],
      "metadata": {
        "id": "w2hI8siCc88t"
      }
    },
    {
      "cell_type": "code",
      "source": [
        "\n",
        "buoy_metadata = {\n",
        "    'port': {\n",
        "        'label': 'Region A red port lateral mark',\n",
        "        'description': 'Port is left and associated with the colour red and cylinder shape in Region A. On the way into a harbour we will keep the red marks to the left (port) side of our ship or boat to travel safely within the channel opposite when exiting the harbour or channel.'\n",
        "    },\n",
        "    'stbd': {\n",
        "        'label': 'Region A Green starboard lateral mark',\n",
        "        'description': 'Starboard is right and associated with the colour green and cone shape in Region A. On the way into a harbour we will keep the green marks to the right (starboard) side of our ship or boat to travel safely within the channel opposite when exiting the harbour or channel.'\n",
        "    },\n",
        "    'south': {\n",
        "        'label': 'South Cardinal Buoy',\n",
        "        'description': 'A South Cardinal indicates that the safest water is to the South. You should pass the South side of the mark.'\n",
        "    },\n",
        "    'north': {\n",
        "        'label': 'North Cardinal Buoy',\n",
        "        'description': 'A North Cardinal indicates that the safest water is to the North. You should pass the North side of the mark.'\n",
        "    },\n",
        "    'east': {\n",
        "        'label': 'East Cardinal Buoy',\n",
        "        'description': 'An East Cardinal indicates that the safest water is to the East. You should pass the East side of the mark.'\n",
        "    },\n",
        "    'west': {\n",
        "        'label': 'West Cardinal Buoy',\n",
        "        'description': 'A West Cardinal indicates that the safest water is to the West. You should pass the West side of the mark.'\n",
        "    },\n",
        "    'isolateddanger': {\n",
        "        'label': 'Isolated Danger Mark',\n",
        "        'description': 'Isolated danger marks show where there is an isolated danger that has navigable water all around it (for example, an isolated shoal, rock, or wreck) – but don\\'t pass too close. Keep a safe distance.'\n",
        "    },\n",
        "    'safewater': {\n",
        "        'label': 'Fairway Buoy / Safe Water Mark Buoy',\n",
        "        'description': 'Safe Water marks serve to indicate that there is navigable water all around the mark and do not mark a danger. Safe water marking can be used for fairway, mid-channel, centre line, or landfall marks. This mark may also be used to indicate channel entrance, port or estuary approach, or landfall.'\n",
        "    }\n",
        "}"
      ],
      "metadata": {
        "id": "5LotsDk4cJej"
      },
      "execution_count": null,
      "outputs": []
    },
    {
      "cell_type": "markdown",
      "source": [
        "\n",
        "# Step 4:List the extracted files\n",
        "This step lists all the files extracted from the ZIP file in the \"images\" folder. The file names are stored in the `image_files` list, which prepares the images for further processing. The `data` list is initialized for later use, likely for storing relevant information about the images."
      ],
      "metadata": {
        "id": "tnqGV_bKdXro"
      }
    },
    {
      "cell_type": "code",
      "source": [
        "\n",
        "image_files = os.listdir(os.path.join(extracted_folder_path, 'images'))\n",
        "\n",
        "data = []"
      ],
      "metadata": {
        "id": "vv5Iwr1jcMQB"
      },
      "execution_count": null,
      "outputs": []
    },
    {
      "cell_type": "code",
      "source": [
        "# Step 5:Populate the data list with the image metadata\n",
        "for image_file in image_files:\n",
        "    for key, value in buoy_metadata.items():\n",
        "        if key in image_file.replace('.', '').lower():\n",
        "            data.append({\n",
        "                'Filename': image_file,\n",
        "                'Label': value['label'],\n",
        "                'Description': value['description']\n",
        "            })\n",
        "\n",
        "df = pd.DataFrame(data)"
      ],
      "metadata": {
        "id": "CWsVXb3rcXm_"
      },
      "execution_count": null,
      "outputs": []
    },
    {
      "cell_type": "markdown",
      "source": [
        "#Step 5: Verify if all buoy types are included\n",
        "This step verifies whether all buoy types defined in the metadata are present in the dataset. It checks the unique labels in the dataset and compares them to the buoy labels defined. If all buoy types are included, it confirms otherwise, it alerts you that some buoy types are missing."
      ],
      "metadata": {
        "id": "kVW5kC0mdd5W"
      }
    },
    {
      "cell_type": "code",
      "source": [
        "\n",
        "included_buoys = df['Label'].unique()\n",
        "all_buoys_included = all(buoy['label'] in included_buoys for buoy in buoy_metadata.values())\n",
        "print(\"Included buoy types in the dataset:\")\n",
        "print(included_buoys)\n",
        "\n",
        "if all_buoys_included:\n",
        "    print(\"All buoy types are included in the dataset.\")\n",
        "else:\n",
        "    print(\"Not all buoy types are included in the dataset.\")"
      ],
      "metadata": {
        "id": "Ao2K2djZgvlD"
      },
      "execution_count": null,
      "outputs": []
    },
    {
      "cell_type": "markdown",
      "source": [
        "#Step 6: Save the DataFrame to a CSV file\n",
        "This step saves the DataFrame `df` as a CSV file, creates a new folder called \"buoy_dataset,\" and copies the image files and the CSV file into that folder. Then, the entire \"buoy_dataset\" folder is compressed into a ZIP file, and the path to this newly created ZIP file is printed for reference."
      ],
      "metadata": {
        "id": "Fm6uQN_Xd9yG"
      }
    },
    {
      "cell_type": "code",
      "execution_count": null,
      "metadata": {
        "colab": {
          "base_uri": "https://localhost:8080/",
          "height": 199
        },
        "id": "YA0tn-wQ1mQ5",
        "outputId": "06346c30-51dc-49d4-aedf-baf63a84cdab"
      },
      "outputs": [
        {
          "output_type": "display_data",
          "data": {
            "text/plain": [
              "<IPython.core.display.HTML object>"
            ],
            "text/html": [
              "\n",
              "     <input type=\"file\" id=\"files-a88c41c5-a1a7-4896-a617-72226bc3e23f\" name=\"files[]\" multiple disabled\n",
              "        style=\"border:none\" />\n",
              "     <output id=\"result-a88c41c5-a1a7-4896-a617-72226bc3e23f\">\n",
              "      Upload widget is only available when the cell has been executed in the\n",
              "      current browser session. Please rerun this cell to enable.\n",
              "      </output>\n",
              "      <script>// Copyright 2017 Google LLC\n",
              "//\n",
              "// Licensed under the Apache License, Version 2.0 (the \"License\");\n",
              "// you may not use this file except in compliance with the License.\n",
              "// You may obtain a copy of the License at\n",
              "//\n",
              "//      http://www.apache.org/licenses/LICENSE-2.0\n",
              "//\n",
              "// Unless required by applicable law or agreed to in writing, software\n",
              "// distributed under the License is distributed on an \"AS IS\" BASIS,\n",
              "// WITHOUT WARRANTIES OR CONDITIONS OF ANY KIND, either express or implied.\n",
              "// See the License for the specific language governing permissions and\n",
              "// limitations under the License.\n",
              "\n",
              "/**\n",
              " * @fileoverview Helpers for google.colab Python module.\n",
              " */\n",
              "(function(scope) {\n",
              "function span(text, styleAttributes = {}) {\n",
              "  const element = document.createElement('span');\n",
              "  element.textContent = text;\n",
              "  for (const key of Object.keys(styleAttributes)) {\n",
              "    element.style[key] = styleAttributes[key];\n",
              "  }\n",
              "  return element;\n",
              "}\n",
              "\n",
              "// Max number of bytes which will be uploaded at a time.\n",
              "const MAX_PAYLOAD_SIZE = 100 * 1024;\n",
              "\n",
              "function _uploadFiles(inputId, outputId) {\n",
              "  const steps = uploadFilesStep(inputId, outputId);\n",
              "  const outputElement = document.getElementById(outputId);\n",
              "  // Cache steps on the outputElement to make it available for the next call\n",
              "  // to uploadFilesContinue from Python.\n",
              "  outputElement.steps = steps;\n",
              "\n",
              "  return _uploadFilesContinue(outputId);\n",
              "}\n",
              "\n",
              "// This is roughly an async generator (not supported in the browser yet),\n",
              "// where there are multiple asynchronous steps and the Python side is going\n",
              "// to poll for completion of each step.\n",
              "// This uses a Promise to block the python side on completion of each step,\n",
              "// then passes the result of the previous step as the input to the next step.\n",
              "function _uploadFilesContinue(outputId) {\n",
              "  const outputElement = document.getElementById(outputId);\n",
              "  const steps = outputElement.steps;\n",
              "\n",
              "  const next = steps.next(outputElement.lastPromiseValue);\n",
              "  return Promise.resolve(next.value.promise).then((value) => {\n",
              "    // Cache the last promise value to make it available to the next\n",
              "    // step of the generator.\n",
              "    outputElement.lastPromiseValue = value;\n",
              "    return next.value.response;\n",
              "  });\n",
              "}\n",
              "\n",
              "/**\n",
              " * Generator function which is called between each async step of the upload\n",
              " * process.\n",
              " * @param {string} inputId Element ID of the input file picker element.\n",
              " * @param {string} outputId Element ID of the output display.\n",
              " * @return {!Iterable<!Object>} Iterable of next steps.\n",
              " */\n",
              "function* uploadFilesStep(inputId, outputId) {\n",
              "  const inputElement = document.getElementById(inputId);\n",
              "  inputElement.disabled = false;\n",
              "\n",
              "  const outputElement = document.getElementById(outputId);\n",
              "  outputElement.innerHTML = '';\n",
              "\n",
              "  const pickedPromise = new Promise((resolve) => {\n",
              "    inputElement.addEventListener('change', (e) => {\n",
              "      resolve(e.target.files);\n",
              "    });\n",
              "  });\n",
              "\n",
              "  const cancel = document.createElement('button');\n",
              "  inputElement.parentElement.appendChild(cancel);\n",
              "  cancel.textContent = 'Cancel upload';\n",
              "  const cancelPromise = new Promise((resolve) => {\n",
              "    cancel.onclick = () => {\n",
              "      resolve(null);\n",
              "    };\n",
              "  });\n",
              "\n",
              "  // Wait for the user to pick the files.\n",
              "  const files = yield {\n",
              "    promise: Promise.race([pickedPromise, cancelPromise]),\n",
              "    response: {\n",
              "      action: 'starting',\n",
              "    }\n",
              "  };\n",
              "\n",
              "  cancel.remove();\n",
              "\n",
              "  // Disable the input element since further picks are not allowed.\n",
              "  inputElement.disabled = true;\n",
              "\n",
              "  if (!files) {\n",
              "    return {\n",
              "      response: {\n",
              "        action: 'complete',\n",
              "      }\n",
              "    };\n",
              "  }\n",
              "\n",
              "  for (const file of files) {\n",
              "    const li = document.createElement('li');\n",
              "    li.append(span(file.name, {fontWeight: 'bold'}));\n",
              "    li.append(span(\n",
              "        `(${file.type || 'n/a'}) - ${file.size} bytes, ` +\n",
              "        `last modified: ${\n",
              "            file.lastModifiedDate ? file.lastModifiedDate.toLocaleDateString() :\n",
              "                                    'n/a'} - `));\n",
              "    const percent = span('0% done');\n",
              "    li.appendChild(percent);\n",
              "\n",
              "    outputElement.appendChild(li);\n",
              "\n",
              "    const fileDataPromise = new Promise((resolve) => {\n",
              "      const reader = new FileReader();\n",
              "      reader.onload = (e) => {\n",
              "        resolve(e.target.result);\n",
              "      };\n",
              "      reader.readAsArrayBuffer(file);\n",
              "    });\n",
              "    // Wait for the data to be ready.\n",
              "    let fileData = yield {\n",
              "      promise: fileDataPromise,\n",
              "      response: {\n",
              "        action: 'continue',\n",
              "      }\n",
              "    };\n",
              "\n",
              "    // Use a chunked sending to avoid message size limits. See b/62115660.\n",
              "    let position = 0;\n",
              "    do {\n",
              "      const length = Math.min(fileData.byteLength - position, MAX_PAYLOAD_SIZE);\n",
              "      const chunk = new Uint8Array(fileData, position, length);\n",
              "      position += length;\n",
              "\n",
              "      const base64 = btoa(String.fromCharCode.apply(null, chunk));\n",
              "      yield {\n",
              "        response: {\n",
              "          action: 'append',\n",
              "          file: file.name,\n",
              "          data: base64,\n",
              "        },\n",
              "      };\n",
              "\n",
              "      let percentDone = fileData.byteLength === 0 ?\n",
              "          100 :\n",
              "          Math.round((position / fileData.byteLength) * 100);\n",
              "      percent.textContent = `${percentDone}% done`;\n",
              "\n",
              "    } while (position < fileData.byteLength);\n",
              "  }\n",
              "\n",
              "  // All done.\n",
              "  yield {\n",
              "    response: {\n",
              "      action: 'complete',\n",
              "    }\n",
              "  };\n",
              "}\n",
              "\n",
              "scope.google = scope.google || {};\n",
              "scope.google.colab = scope.google.colab || {};\n",
              "scope.google.colab._files = {\n",
              "  _uploadFiles,\n",
              "  _uploadFilesContinue,\n",
              "};\n",
              "})(self);\n",
              "</script> "
            ]
          },
          "metadata": {}
        },
        {
          "output_type": "stream",
          "name": "stdout",
          "text": [
            "Saving images.zip to images.zip\n",
            "Included buoy types in the dataset:\n",
            "['Region A red port lateral mark' 'South Cardinal Buoy'\n",
            " 'West Cardinal Buoy' 'Fairway Buoy / Safe Water Mark Buoy'\n",
            " 'Region A Green starboard lateral mark' 'Isolated Danger Mark'\n",
            " 'North Cardinal Buoy' 'East Cardinal Buoy']\n",
            "All buoy types are included in the dataset.\n",
            "Dataset ZIP file created at: /content/buoy_dataset.zip\n"
          ]
        }
      ],
      "source": [
        "#Step 6: Save the DataFrame to a CSV file\n",
        "csv_file_path = os.path.join(extracted_folder_path, 'buoy_dataset_with_isolated_danger.csv')\n",
        "df.to_csv(csv_file_path, index=False)\n",
        "\n",
        "dataset_folder_path = 'buoy_dataset'\n",
        "os.makedirs(dataset_folder_path, exist_ok=True)\n",
        "\n",
        "for image_file in image_files:\n",
        "    copyfile(os.path.join(extracted_folder_path, 'images', image_file), os.path.join(dataset_folder_path, image_file))\n",
        "copyfile(csv_file_path, os.path.join(dataset_folder_path, 'buoy_dataset_with_isolated_danger.csv'))\n",
        "\n",
        "dataset_zip_path = make_archive(dataset_folder_path, 'zip', dataset_folder_path)\n",
        "\n",
        "print(f'Dataset ZIP file created at: {dataset_zip_path}')\n"
      ]
    }
  ]
}