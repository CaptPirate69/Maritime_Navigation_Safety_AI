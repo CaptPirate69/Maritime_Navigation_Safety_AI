{
  "nbformat": 4,
  "nbformat_minor": 0,
  "metadata": {
    "colab": {
      "provenance": []
    },
    "kernelspec": {
      "name": "python3",
      "display_name": "Python 3"
    },
    "language_info": {
      "name": "python"
    }
  },
  "cells": [
    {
      "cell_type": "markdown",
      "source": [
        "#Step 1: Upload and Extract the ZIP file\n",
        "This step allows to upload a file from your computer to Colab. Once the file is uploaded, the code grabs the name of the file you just uploaded so it can be used later in the process."
      ],
      "metadata": {
        "id": "W3wB1nFVFN1x"
      }
    },
    {
      "cell_type": "code",
      "source": [
        "from google.colab import files\n",
        "uploaded = files.upload()\n",
        "\n",
        "zip_file_name = next(iter(uploaded.keys()))\n"
      ],
      "metadata": {
        "colab": {
          "base_uri": "https://localhost:8080/",
          "height": 73
        },
        "id": "2Z6awDr_ibZp",
        "outputId": "4b3904f2-3774-4307-df48-f03becd59174"
      },
      "execution_count": 9,
      "outputs": [
        {
          "output_type": "display_data",
          "data": {
            "text/plain": [
              "<IPython.core.display.HTML object>"
            ],
            "text/html": [
              "\n",
              "     <input type=\"file\" id=\"files-08d2e07f-7073-474a-82d3-a9f8cdadc7b9\" name=\"files[]\" multiple disabled\n",
              "        style=\"border:none\" />\n",
              "     <output id=\"result-08d2e07f-7073-474a-82d3-a9f8cdadc7b9\">\n",
              "      Upload widget is only available when the cell has been executed in the\n",
              "      current browser session. Please rerun this cell to enable.\n",
              "      </output>\n",
              "      <script>// Copyright 2017 Google LLC\n",
              "//\n",
              "// Licensed under the Apache License, Version 2.0 (the \"License\");\n",
              "// you may not use this file except in compliance with the License.\n",
              "// You may obtain a copy of the License at\n",
              "//\n",
              "//      http://www.apache.org/licenses/LICENSE-2.0\n",
              "//\n",
              "// Unless required by applicable law or agreed to in writing, software\n",
              "// distributed under the License is distributed on an \"AS IS\" BASIS,\n",
              "// WITHOUT WARRANTIES OR CONDITIONS OF ANY KIND, either express or implied.\n",
              "// See the License for the specific language governing permissions and\n",
              "// limitations under the License.\n",
              "\n",
              "/**\n",
              " * @fileoverview Helpers for google.colab Python module.\n",
              " */\n",
              "(function(scope) {\n",
              "function span(text, styleAttributes = {}) {\n",
              "  const element = document.createElement('span');\n",
              "  element.textContent = text;\n",
              "  for (const key of Object.keys(styleAttributes)) {\n",
              "    element.style[key] = styleAttributes[key];\n",
              "  }\n",
              "  return element;\n",
              "}\n",
              "\n",
              "// Max number of bytes which will be uploaded at a time.\n",
              "const MAX_PAYLOAD_SIZE = 100 * 1024;\n",
              "\n",
              "function _uploadFiles(inputId, outputId) {\n",
              "  const steps = uploadFilesStep(inputId, outputId);\n",
              "  const outputElement = document.getElementById(outputId);\n",
              "  // Cache steps on the outputElement to make it available for the next call\n",
              "  // to uploadFilesContinue from Python.\n",
              "  outputElement.steps = steps;\n",
              "\n",
              "  return _uploadFilesContinue(outputId);\n",
              "}\n",
              "\n",
              "// This is roughly an async generator (not supported in the browser yet),\n",
              "// where there are multiple asynchronous steps and the Python side is going\n",
              "// to poll for completion of each step.\n",
              "// This uses a Promise to block the python side on completion of each step,\n",
              "// then passes the result of the previous step as the input to the next step.\n",
              "function _uploadFilesContinue(outputId) {\n",
              "  const outputElement = document.getElementById(outputId);\n",
              "  const steps = outputElement.steps;\n",
              "\n",
              "  const next = steps.next(outputElement.lastPromiseValue);\n",
              "  return Promise.resolve(next.value.promise).then((value) => {\n",
              "    // Cache the last promise value to make it available to the next\n",
              "    // step of the generator.\n",
              "    outputElement.lastPromiseValue = value;\n",
              "    return next.value.response;\n",
              "  });\n",
              "}\n",
              "\n",
              "/**\n",
              " * Generator function which is called between each async step of the upload\n",
              " * process.\n",
              " * @param {string} inputId Element ID of the input file picker element.\n",
              " * @param {string} outputId Element ID of the output display.\n",
              " * @return {!Iterable<!Object>} Iterable of next steps.\n",
              " */\n",
              "function* uploadFilesStep(inputId, outputId) {\n",
              "  const inputElement = document.getElementById(inputId);\n",
              "  inputElement.disabled = false;\n",
              "\n",
              "  const outputElement = document.getElementById(outputId);\n",
              "  outputElement.innerHTML = '';\n",
              "\n",
              "  const pickedPromise = new Promise((resolve) => {\n",
              "    inputElement.addEventListener('change', (e) => {\n",
              "      resolve(e.target.files);\n",
              "    });\n",
              "  });\n",
              "\n",
              "  const cancel = document.createElement('button');\n",
              "  inputElement.parentElement.appendChild(cancel);\n",
              "  cancel.textContent = 'Cancel upload';\n",
              "  const cancelPromise = new Promise((resolve) => {\n",
              "    cancel.onclick = () => {\n",
              "      resolve(null);\n",
              "    };\n",
              "  });\n",
              "\n",
              "  // Wait for the user to pick the files.\n",
              "  const files = yield {\n",
              "    promise: Promise.race([pickedPromise, cancelPromise]),\n",
              "    response: {\n",
              "      action: 'starting',\n",
              "    }\n",
              "  };\n",
              "\n",
              "  cancel.remove();\n",
              "\n",
              "  // Disable the input element since further picks are not allowed.\n",
              "  inputElement.disabled = true;\n",
              "\n",
              "  if (!files) {\n",
              "    return {\n",
              "      response: {\n",
              "        action: 'complete',\n",
              "      }\n",
              "    };\n",
              "  }\n",
              "\n",
              "  for (const file of files) {\n",
              "    const li = document.createElement('li');\n",
              "    li.append(span(file.name, {fontWeight: 'bold'}));\n",
              "    li.append(span(\n",
              "        `(${file.type || 'n/a'}) - ${file.size} bytes, ` +\n",
              "        `last modified: ${\n",
              "            file.lastModifiedDate ? file.lastModifiedDate.toLocaleDateString() :\n",
              "                                    'n/a'} - `));\n",
              "    const percent = span('0% done');\n",
              "    li.appendChild(percent);\n",
              "\n",
              "    outputElement.appendChild(li);\n",
              "\n",
              "    const fileDataPromise = new Promise((resolve) => {\n",
              "      const reader = new FileReader();\n",
              "      reader.onload = (e) => {\n",
              "        resolve(e.target.result);\n",
              "      };\n",
              "      reader.readAsArrayBuffer(file);\n",
              "    });\n",
              "    // Wait for the data to be ready.\n",
              "    let fileData = yield {\n",
              "      promise: fileDataPromise,\n",
              "      response: {\n",
              "        action: 'continue',\n",
              "      }\n",
              "    };\n",
              "\n",
              "    // Use a chunked sending to avoid message size limits. See b/62115660.\n",
              "    let position = 0;\n",
              "    do {\n",
              "      const length = Math.min(fileData.byteLength - position, MAX_PAYLOAD_SIZE);\n",
              "      const chunk = new Uint8Array(fileData, position, length);\n",
              "      position += length;\n",
              "\n",
              "      const base64 = btoa(String.fromCharCode.apply(null, chunk));\n",
              "      yield {\n",
              "        response: {\n",
              "          action: 'append',\n",
              "          file: file.name,\n",
              "          data: base64,\n",
              "        },\n",
              "      };\n",
              "\n",
              "      let percentDone = fileData.byteLength === 0 ?\n",
              "          100 :\n",
              "          Math.round((position / fileData.byteLength) * 100);\n",
              "      percent.textContent = `${percentDone}% done`;\n",
              "\n",
              "    } while (position < fileData.byteLength);\n",
              "  }\n",
              "\n",
              "  // All done.\n",
              "  yield {\n",
              "    response: {\n",
              "      action: 'complete',\n",
              "    }\n",
              "  };\n",
              "}\n",
              "\n",
              "scope.google = scope.google || {};\n",
              "scope.google.colab = scope.google.colab || {};\n",
              "scope.google.colab._files = {\n",
              "  _uploadFiles,\n",
              "  _uploadFilesContinue,\n",
              "};\n",
              "})(self);\n",
              "</script> "
            ]
          },
          "metadata": {}
        },
        {
          "output_type": "stream",
          "name": "stdout",
          "text": [
            "Saving buoy_dataset.zip to buoy_dataset.zip\n"
          ]
        }
      ]
    },
    {
      "cell_type": "markdown",
      "source": [
        "#Step 2: Import Necessary Libraries\n",
        "\n",
        "In this step, have import all the libraries and modules that will need for the project.These libraries form the foundation for file handling, data preparation, and building the neural network\n",
        "\n",
        "1- os and zipfile: For handling file and directory operations, and for extracting the contents of the ZIP file.\n",
        "\n",
        "2- pandas: For data manipulation and analysis, especially working with tables.\n",
        "\n",
        "3- shutil: For copying files and creating compressed archives.\n",
        "\n",
        "4- PIL (Pillow): For image processing tasks.\n",
        "\n",
        "5- sklearn: For encoding labels and splitting the data into training and testing sets.\n",
        "\n",
        "\n",
        "6- numpy: For handling arrays and numerical computations.\n",
        "\n",
        "7- matplotlib: For visualizing data through plots.\n",
        "\n",
        "8- tensorflow and keras: For building and training deep learning models, specifically convolutional neural networks for image processing tasks."
      ],
      "metadata": {
        "id": "m9zfJ1-uF-DC"
      }
    },
    {
      "cell_type": "code",
      "source": [
        "import os\n",
        "import zipfile\n",
        "import pandas as pd\n",
        "from shutil import copyfile, make_archive\n",
        "from PIL import Image\n",
        "from sklearn.preprocessing import LabelEncoder\n",
        "from sklearn.model_selection import train_test_split\n",
        "import numpy as np\n",
        "import matplotlib.pyplot as plt\n",
        "import tensorflow as tf\n",
        "from tensorflow.keras.models import Sequential\n",
        "from tensorflow.keras.layers import Dense, Conv2D, MaxPooling2D, Flatten\n",
        "from tensorflow.keras.preprocessing.image import ImageDataGenerator"
      ],
      "metadata": {
        "id": "HQFLpeXkik2D"
      },
      "execution_count": 10,
      "outputs": []
    },
    {
      "cell_type": "markdown",
      "source": [
        "#Step 3: Define the Path, Create Directory, and Extract Images\n",
        "\n",
        "This step involves specifying the path to the uploaded ZIP file, creating a folder named \"images\" to store the extracted files, and then extracting the contents of the ZIP file into this folder. This prepares the images for use in the next stages of your project."
      ],
      "metadata": {
        "id": "HxnCJm4kG8xa"
      }
    },
    {
      "cell_type": "code",
      "source": [
        "zip_file_path = zip_file_name\n",
        "extracted_folder_path = 'images/'\n",
        "os.makedirs(extracted_folder_path, exist_ok=True)\n",
        "\n",
        "\n",
        "with zipfile.ZipFile(zip_file_path, 'r') as zip_ref:\n",
        "    zip_ref.extractall(extracted_folder_path)"
      ],
      "metadata": {
        "id": "UFdy_ZB8isvH"
      },
      "execution_count": 11,
      "outputs": []
    },
    {
      "cell_type": "markdown",
      "source": [
        "\n",
        "#Step 4: Load and display the 8 kinds of buoys and their labels and descriptions\n",
        "This step defines and displays information about eight types of navigation buoys, including their labels and descriptions of their functions and safety instructions."
      ],
      "metadata": {
        "id": "UMoE3sEgLJKA"
      }
    },
    {
      "cell_type": "code",
      "source": [
        "buoy_metadata = {\n",
        "    'port': {\n",
        "        'label': 'Region A red port lateral mark',\n",
        "        'description': 'Port is left and associated with the colour red and cylinder shape in Region A. On the way into a harbour we will keep the red marks to the left (port) side of our ship or boat to travel safely within the channel opposite when exiting the harbour or channel.'\n",
        "    },\n",
        "    'stbd': {\n",
        "        'label': 'Region A Green starboard lateral mark',\n",
        "        'description': 'Starboard is right and associated with the colour green and cone shape in Region A. On the way into a harbour we will keep the green marks to the right (starboard) side of our ship or boat to travel safely within the channel opposite when exiting the harbour or channel.'\n",
        "    },\n",
        "    'south': {\n",
        "        'label': 'South Cardinal Buoy',\n",
        "        'description': 'A South Cardinal indicates that the safest water is to the South. You should pass the South side of the mark.'\n",
        "    },\n",
        "    'north': {\n",
        "        'label': 'North Cardinal Buoy',\n",
        "        'description': 'A North Cardinal indicates that the safest water is to the North. You should pass the North side of the mark.'\n",
        "    },\n",
        "    'east': {\n",
        "        'label': 'East Cardinal Buoy',\n",
        "        'description': 'An East Cardinal indicates that the safest water is to the East. You should pass the East side of the mark.'\n",
        "    },\n",
        "    'west': {\n",
        "        'label': 'West Cardinal Buoy',\n",
        "        'description': 'A West Cardinal indicates that the safest water is to the West. You should pass the West side of the mark.'\n",
        "    },\n",
        "    'isolateddanger': {\n",
        "        'label': 'Isolated Danger Mark',\n",
        "        'description': 'Isolated danger marks show where there is an isolated danger that has navigable water all around it (for example, an isolated shoal, rock, or wreck) – but don\\'t pass too close. Keep a safe distance.'\n",
        "    },\n",
        "    'safewater': {\n",
        "        'label': 'Fairway Buoy / Safe Water Mark Buoy',\n",
        "        'description': 'Safe Water marks serve to indicate that there is navigable water all around the mark and do not mark a danger. Safe water marking can be used for fairway, mid-channel, centre line, or landfall marks. This mark may also be used to indicate channel entrance, port or estuary approach, or landfall.'\n",
        "    }\n",
        "}\n"
      ],
      "metadata": {
        "id": "6aCRsW-ujaEs"
      },
      "execution_count": 12,
      "outputs": []
    },
    {
      "cell_type": "markdown",
      "source": [
        "#Step 5:Load the CSV file to check its contents and Display the 8 kinds of buoys and their labels and descriptions\n",
        "This step involves loading a CSV file that contains data about buoys and displaying the information about the eight types of buoys defined earlier. The CSV file is read into a DataFrame using `pandas`, and then the details for each buoy type, including its label and description, are printed out. This allows you to verify and review the buoy information from the dataset."
      ],
      "metadata": {
        "id": "WqK2xZ0-IVcU"
      }
    },
    {
      "cell_type": "code",
      "source": [
        "csv_file_path = os.path.join(extracted_folder_path, 'buoy_dataset_with_isolated_danger.csv')\n",
        "df = pd.read_csv(csv_file_path)\n",
        "\n",
        "for key, value in buoy_metadata.items():\n",
        "    print(f\"Buoy Type: {key}\")\n",
        "    print(f\"Label: {value['label']}\")\n",
        "    print(f\"Description: {value['description']}\")\n",
        "    print()"
      ],
      "metadata": {
        "colab": {
          "base_uri": "https://localhost:8080/"
        },
        "id": "4PXWN-yFjlgN",
        "outputId": "3a85bdbc-bd6c-4491-bf13-7b56788cfaae"
      },
      "execution_count": 13,
      "outputs": [
        {
          "output_type": "stream",
          "name": "stdout",
          "text": [
            "Buoy Type: port\n",
            "Label: Region A red port lateral mark\n",
            "Description: Port is left and associated with the colour red and cylinder shape in Region A. On the way into a harbour we will keep the red marks to the left (port) side of our ship or boat to travel safely within the channel opposite when exiting the harbour or channel.\n",
            "\n",
            "Buoy Type: stbd\n",
            "Label: Region A Green starboard lateral mark\n",
            "Description: Starboard is right and associated with the colour green and cone shape in Region A. On the way into a harbour we will keep the green marks to the right (starboard) side of our ship or boat to travel safely within the channel opposite when exiting the harbour or channel.\n",
            "\n",
            "Buoy Type: south\n",
            "Label: South Cardinal Buoy\n",
            "Description: A South Cardinal indicates that the safest water is to the South. You should pass the South side of the mark.\n",
            "\n",
            "Buoy Type: north\n",
            "Label: North Cardinal Buoy\n",
            "Description: A North Cardinal indicates that the safest water is to the North. You should pass the North side of the mark.\n",
            "\n",
            "Buoy Type: east\n",
            "Label: East Cardinal Buoy\n",
            "Description: An East Cardinal indicates that the safest water is to the East. You should pass the East side of the mark.\n",
            "\n",
            "Buoy Type: west\n",
            "Label: West Cardinal Buoy\n",
            "Description: A West Cardinal indicates that the safest water is to the West. You should pass the West side of the mark.\n",
            "\n",
            "Buoy Type: isolateddanger\n",
            "Label: Isolated Danger Mark\n",
            "Description: Isolated danger marks show where there is an isolated danger that has navigable water all around it (for example, an isolated shoal, rock, or wreck) – but don't pass too close. Keep a safe distance.\n",
            "\n",
            "Buoy Type: safewater\n",
            "Label: Fairway Buoy / Safe Water Mark Buoy\n",
            "Description: Safe Water marks serve to indicate that there is navigable water all around the mark and do not mark a danger. Safe water marking can be used for fairway, mid-channel, centre line, or landfall marks. This mark may also be used to indicate channel entrance, port or estuary approach, or landfall.\n",
            "\n"
          ]
        }
      ]
    },
    {
      "cell_type": "markdown",
      "source": [
        "\n",
        "#Step 6: Train the dataset\n",
        "This step loads and preprocesses images from the dataset, encodes their labels into numbers, splits the data into training and testing sets, and sets up data generators to feed the images into the model for training and validation."
      ],
      "metadata": {
        "id": "v5B0DAlFIp86"
      }
    },
    {
      "cell_type": "code",
      "source": [
        "def load_images_and_labels(df, extracted_folder_path):\n",
        "    images = []\n",
        "    labels = []\n",
        "    for index, row in df.iterrows():\n",
        "        image_path = os.path.join(extracted_folder_path, row['Filename'])\n",
        "        image = Image.open(image_path)\n",
        "        image = image.resize((64, 64))  # Resize image for consistency\n",
        "        image = np.array(image)\n",
        "        if image.shape == (64, 64, 3):  # Ensure image is in RGB format\n",
        "            images.append(image)\n",
        "            labels.append(row['Label'])\n",
        "    return np.array(images), np.array(labels)\n",
        "\n",
        "images, labels = load_images_and_labels(df, extracted_folder_path)\n",
        "\n",
        "# Encode labels\n",
        "label_encoder = LabelEncoder()\n",
        "labels_encoded = label_encoder.fit_transform(labels)\n",
        "\n",
        "# Split the dataset into training and testing sets\n",
        "X_train, X_test, y_train, y_test = train_test_split(images, labels_encoded, test_size=0.2, random_state=42)\n",
        "\n",
        "# Step 5: Create data generators\n",
        "train_datagen = ImageDataGenerator(rescale=1./255)\n",
        "val_datagen = ImageDataGenerator(rescale=1./255)\n",
        "\n",
        "train_generator = train_datagen.flow(X_train, y_train, batch_size=32)\n",
        "val_generator = val_datagen.flow(X_test, y_test, batch_size=32)"
      ],
      "metadata": {
        "id": "_MKPfzefjs4g"
      },
      "execution_count": 14,
      "outputs": []
    },
    {
      "cell_type": "markdown",
      "source": [
        "\n",
        "# Step 7: Build the model\n",
        "This step builds and compiles a convolutional neural network with multiple layers for image classification, using the Adam optimizer and sparse categorical cross-entropy loss."
      ],
      "metadata": {
        "id": "TVT8ov0JJmXA"
      }
    },
    {
      "cell_type": "code",
      "source": [
        "model = Sequential([\n",
        "    Conv2D(32, (3, 3), activation='relu', input_shape=(64, 64, 3)),\n",
        "    MaxPooling2D((2, 2)),\n",
        "    Conv2D(64, (3, 3), activation='relu'),\n",
        "    MaxPooling2D((2, 2)),\n",
        "    Conv2D(128, (3, 3), activation='relu'),\n",
        "    MaxPooling2D((2, 2)),\n",
        "    Flatten(),\n",
        "    Dense(128, activation='relu'),\n",
        "    Dense(len(label_encoder.classes_), activation='softmax')\n",
        "])\n",
        "\n",
        "model.compile(optimizer='adam', loss='sparse_categorical_crossentropy', metrics=['accuracy'])"
      ],
      "metadata": {
        "colab": {
          "base_uri": "https://localhost:8080/"
        },
        "id": "KE2OrnRJjvzS",
        "outputId": "87fbe765-b4c1-4f59-d4e8-15f32be2462e"
      },
      "execution_count": 15,
      "outputs": [
        {
          "output_type": "stream",
          "name": "stderr",
          "text": [
            "/usr/local/lib/python3.10/dist-packages/keras/src/layers/convolutional/base_conv.py:107: UserWarning: Do not pass an `input_shape`/`input_dim` argument to a layer. When using Sequential models, prefer using an `Input(shape)` object as the first layer in the model instead.\n",
            "  super().__init__(activity_regularizer=activity_regularizer, **kwargs)\n"
          ]
        }
      ]
    },
    {
      "cell_type": "markdown",
      "source": [
        "# Step 8: Train and save model\n",
        "This step trains the model using the training data and validates it with the validation data over 15 epochs. After training, the model is saved to a file named `iala_buoy_identification.h5`."
      ],
      "metadata": {
        "id": "LXggf2PDJw5z"
      }
    },
    {
      "cell_type": "code",
      "source": [
        "history = model.fit(train_generator, validation_data=val_generator, epochs=15)\n",
        "\n",
        "model.save('iala_buoy_identifiaction.h5')"
      ],
      "metadata": {
        "colab": {
          "base_uri": "https://localhost:8080/"
        },
        "id": "zlmKm0bIjx2L",
        "outputId": "c788c099-f591-4749-d110-94f9cdcff440"
      },
      "execution_count": 16,
      "outputs": [
        {
          "output_type": "stream",
          "name": "stdout",
          "text": [
            "Epoch 1/15\n"
          ]
        },
        {
          "output_type": "stream",
          "name": "stderr",
          "text": [
            "/usr/local/lib/python3.10/dist-packages/keras/src/trainers/data_adapters/py_dataset_adapter.py:121: UserWarning: Your `PyDataset` class should call `super().__init__(**kwargs)` in its constructor. `**kwargs` can include `workers`, `use_multiprocessing`, `max_queue_size`. Do not pass these arguments to `fit()`, as they will be ignored.\n",
            "  self._warn_if_super_not_called()\n"
          ]
        },
        {
          "output_type": "stream",
          "name": "stdout",
          "text": [
            "\u001b[1m22/22\u001b[0m \u001b[32m━━━━━━━━━━━━━━━━━━━━\u001b[0m\u001b[37m\u001b[0m \u001b[1m10s\u001b[0m 300ms/step - accuracy: 0.2535 - loss: 1.9927 - val_accuracy: 0.4678 - val_loss: 1.5635\n",
            "Epoch 2/15\n",
            "\u001b[1m22/22\u001b[0m \u001b[32m━━━━━━━━━━━━━━━━━━━━\u001b[0m\u001b[37m\u001b[0m \u001b[1m5s\u001b[0m 244ms/step - accuracy: 0.4069 - loss: 1.5629 - val_accuracy: 0.5205 - val_loss: 1.2367\n",
            "Epoch 3/15\n",
            "\u001b[1m22/22\u001b[0m \u001b[32m━━━━━━━━━━━━━━━━━━━━\u001b[0m\u001b[37m\u001b[0m \u001b[1m12s\u001b[0m 320ms/step - accuracy: 0.5401 - loss: 1.2009 - val_accuracy: 0.5731 - val_loss: 1.0214\n",
            "Epoch 4/15\n",
            "\u001b[1m22/22\u001b[0m \u001b[32m━━━━━━━━━━━━━━━━━━━━\u001b[0m\u001b[37m\u001b[0m \u001b[1m7s\u001b[0m 298ms/step - accuracy: 0.6666 - loss: 0.9957 - val_accuracy: 0.6725 - val_loss: 0.8958\n",
            "Epoch 5/15\n",
            "\u001b[1m22/22\u001b[0m \u001b[32m━━━━━━━━━━━━━━━━━━━━\u001b[0m\u001b[37m\u001b[0m \u001b[1m5s\u001b[0m 213ms/step - accuracy: 0.6777 - loss: 0.8790 - val_accuracy: 0.6257 - val_loss: 1.0117\n",
            "Epoch 6/15\n",
            "\u001b[1m22/22\u001b[0m \u001b[32m━━━━━━━━━━━━━━━━━━━━\u001b[0m\u001b[37m\u001b[0m \u001b[1m5s\u001b[0m 220ms/step - accuracy: 0.7234 - loss: 0.7468 - val_accuracy: 0.7018 - val_loss: 0.8376\n",
            "Epoch 7/15\n",
            "\u001b[1m22/22\u001b[0m \u001b[32m━━━━━━━━━━━━━━━━━━━━\u001b[0m\u001b[37m\u001b[0m \u001b[1m7s\u001b[0m 318ms/step - accuracy: 0.7764 - loss: 0.5899 - val_accuracy: 0.7193 - val_loss: 0.8238\n",
            "Epoch 8/15\n",
            "\u001b[1m22/22\u001b[0m \u001b[32m━━━━━━━━━━━━━━━━━━━━\u001b[0m\u001b[37m\u001b[0m \u001b[1m5s\u001b[0m 231ms/step - accuracy: 0.8122 - loss: 0.5525 - val_accuracy: 0.7368 - val_loss: 0.8291\n",
            "Epoch 9/15\n",
            "\u001b[1m22/22\u001b[0m \u001b[32m━━━━━━━━━━━━━━━━━━━━\u001b[0m\u001b[37m\u001b[0m \u001b[1m10s\u001b[0m 221ms/step - accuracy: 0.8287 - loss: 0.5100 - val_accuracy: 0.7193 - val_loss: 0.8172\n",
            "Epoch 10/15\n",
            "\u001b[1m22/22\u001b[0m \u001b[32m━━━━━━━━━━━━━━━━━━━━\u001b[0m\u001b[37m\u001b[0m \u001b[1m5s\u001b[0m 217ms/step - accuracy: 0.8774 - loss: 0.3954 - val_accuracy: 0.8129 - val_loss: 0.6705\n",
            "Epoch 11/15\n",
            "\u001b[1m22/22\u001b[0m \u001b[32m━━━━━━━━━━━━━━━━━━━━\u001b[0m\u001b[37m\u001b[0m \u001b[1m7s\u001b[0m 314ms/step - accuracy: 0.8882 - loss: 0.3157 - val_accuracy: 0.7544 - val_loss: 0.7648\n",
            "Epoch 12/15\n",
            "\u001b[1m22/22\u001b[0m \u001b[32m━━━━━━━━━━━━━━━━━━━━\u001b[0m\u001b[37m\u001b[0m \u001b[1m8s\u001b[0m 223ms/step - accuracy: 0.9164 - loss: 0.2477 - val_accuracy: 0.7661 - val_loss: 0.7676\n",
            "Epoch 13/15\n",
            "\u001b[1m22/22\u001b[0m \u001b[32m━━━━━━━━━━━━━━━━━━━━\u001b[0m\u001b[37m\u001b[0m \u001b[1m7s\u001b[0m 330ms/step - accuracy: 0.9433 - loss: 0.1814 - val_accuracy: 0.7836 - val_loss: 0.8253\n",
            "Epoch 14/15\n",
            "\u001b[1m22/22\u001b[0m \u001b[32m━━━━━━━━━━━━━━━━━━━━\u001b[0m\u001b[37m\u001b[0m \u001b[1m5s\u001b[0m 238ms/step - accuracy: 0.9578 - loss: 0.1542 - val_accuracy: 0.8070 - val_loss: 0.7646\n",
            "Epoch 15/15\n",
            "\u001b[1m22/22\u001b[0m \u001b[32m━━━━━━━━━━━━━━━━━━━━\u001b[0m\u001b[37m\u001b[0m \u001b[1m10s\u001b[0m 221ms/step - accuracy: 0.9729 - loss: 0.1093 - val_accuracy: 0.7661 - val_loss: 1.0288\n"
          ]
        },
        {
          "output_type": "stream",
          "name": "stderr",
          "text": [
            "WARNING:absl:You are saving your model as an HDF5 file via `model.save()` or `keras.saving.save_model(model)`. This file format is considered legacy. We recommend using instead the native Keras format, e.g. `model.save('my_model.keras')` or `keras.saving.save_model(model, 'my_model.keras')`. \n"
          ]
        }
      ]
    },
    {
      "cell_type": "markdown",
      "source": [
        "# Step 9: Plot accuracy and loss over the training process\n",
        "This step plots the training and validation accuracy and loss over the epochs. It creates two graphs: one showing how accuracy improves over time and another showing how the loss changes, allowing you to visualize the model's performance and training progress."
      ],
      "metadata": {
        "id": "zGeV8sWXKLYG"
      }
    },
    {
      "cell_type": "code",
      "source": [
        "plt.figure(figsize=(12, 4))\n",
        "plt.subplot(1, 2, 1)\n",
        "plt.plot(history.history['accuracy'], label='train accuracy')\n",
        "plt.plot(history.history['val_accuracy'], label='val accuracy')\n",
        "plt.title('Accuracy over epochs')\n",
        "plt.xlabel('Epochs')\n",
        "plt.ylabel('Accuracy')\n",
        "plt.legend()\n",
        "\n",
        "plt.subplot(1, 2, 2)\n",
        "plt.plot(history.history['loss'], label='train loss')\n",
        "plt.plot(history.history['val_loss'], label='val loss')\n",
        "plt.title('Loss over epochs')\n",
        "plt.xlabel('Epochs')\n",
        "plt.ylabel('Loss')\n",
        "plt.legend()\n",
        "\n",
        "plt.show()"
      ],
      "metadata": {
        "colab": {
          "base_uri": "https://localhost:8080/",
          "height": 410
        },
        "id": "KDE5JC9Qj1pU",
        "outputId": "a0c41d87-e31a-4127-9d51-99f09177d0c1"
      },
      "execution_count": 17,
      "outputs": [
        {
          "output_type": "display_data",
          "data": {
            "text/plain": [
              "<Figure size 1200x400 with 2 Axes>"
            ],
            "image/png": "[encoded data removed]"
          },
          "metadata": {}
        }
      ]
    },
    {
      "cell_type": "markdown",
      "source": [
        "# Step 10: step defines two functions for uploading and classifying images:\n",
        "\n",
        "1.classify_buoy(image_path): Takes an image file path, preprocesses the image, predicts the buoy type using the trained model, and retrieves its label, description, and recommended action.\n",
        "\n",
        "2.upload_and_classify(): Handles file uploads, uses the `classify_buoy` function to classify the uploaded image, and displays the image along with its buoy type, description, and action instructions."
      ],
      "metadata": {
        "id": "vr1kC2nnKam9"
      }
    },
    {
      "cell_type": "code",
      "source": [
        "def classify_buoy(image_path):\n",
        "    image = Image.open(image_path)\n",
        "    image = image.resize((64, 64))\n",
        "    image = np.array(image) / 255.0\n",
        "    image = image.reshape(1, 64, 64, 3)\n",
        "    label_encoded = np.argmax(model.predict(image), axis=1)\n",
        "    label = label_encoder.inverse_transform(label_encoded)[0]\n",
        "    action_dict = {\n",
        "        'Region A red port lateral mark': 'Keep buoy to your left when entering harbor or channel.',\n",
        "        'Region A Green starboard lateral mark': 'Keep buoy to your right when entering harbor or channel.',\n",
        "        'Fairway Buoy / Safe Water Mark Buoy': 'Safe water, can pass on either side.',\n",
        "        'Isolated Danger Mark': 'Danger, keep clear.',\n",
        "        'North Cardinal Buoy': 'Pass to the north of the buoy.',\n",
        "        'South Cardinal Buoy': 'Pass to the south of the buoy.',\n",
        "        'East Cardinal Buoy': 'Pass to the east of the buoy.',\n",
        "        'West Cardinal Buoy': 'Pass to the west of the buoy.'\n",
        "    }\n",
        "    description = next(value['description'] for key, value in buoy_metadata.items() if value['label'] == label)\n",
        "    action = action_dict.get(label, 'No action defined.')\n",
        "    return label, description, action\n",
        "\n",
        "def upload_and_classify():\n",
        "    uploaded = files.upload()\n",
        "    for fname in uploaded.keys():\n",
        "        buoy_type, description, action = classify_buoy(fname)\n",
        "        display(Image.open(fname))\n",
        "        print(f\"Uploaded image: {fname}\")\n",
        "        print(f\"Buoy Type: {buoy_type}\")\n",
        "        print(f\"Description: {description}\")\n",
        "        print(f\"Action: {action}\")"
      ],
      "metadata": {
        "id": "ShfUcx_wj7ba"
      },
      "execution_count": 18,
      "outputs": []
    },
    {
      "cell_type": "markdown",
      "source": [
        "# Step 11: Run the upload and classify function\n",
        "This step runs the `upload_and_classify` function to process an image upload. It then enters a loop, repeatedly asking the user to upload another image or type 'exit' to stop the process. This allows for continuous classification of new images until the user decides to end the session."
      ],
      "metadata": {
        "id": "TcsnhrOrKy2V"
      }
    },
    {
      "cell_type": "code",
      "execution_count": 19,
      "metadata": {
        "colab": {
          "base_uri": "https://localhost:8080/",
          "height": 391
        },
        "id": "LyYbtRe2l0Ia",
        "outputId": "d01cda10-c1a6-4c44-c6fc-c8ea3d98ba9c"
      },
      "outputs": [
        {
          "output_type": "display_data",
          "data": {
            "text/plain": [
              "<IPython.core.display.HTML object>"
            ],
            "text/html": [
              "\n",
              "     <input type=\"file\" id=\"files-e2151c70-77b0-4d4c-8b9d-a04611a565e7\" name=\"files[]\" multiple disabled\n",
              "        style=\"border:none\" />\n",
              "     <output id=\"result-e2151c70-77b0-4d4c-8b9d-a04611a565e7\">\n",
              "      Upload widget is only available when the cell has been executed in the\n",
              "      current browser session. Please rerun this cell to enable.\n",
              "      </output>\n",
              "      <script>// Copyright 2017 Google LLC\n",
              "//\n",
              "// Licensed under the Apache License, Version 2.0 (the \"License\");\n",
              "// you may not use this file except in compliance with the License.\n",
              "// You may obtain a copy of the License at\n",
              "//\n",
              "//      http://www.apache.org/licenses/LICENSE-2.0\n",
              "//\n",
              "// Unless required by applicable law or agreed to in writing, software\n",
              "// distributed under the License is distributed on an \"AS IS\" BASIS,\n",
              "// WITHOUT WARRANTIES OR CONDITIONS OF ANY KIND, either express or implied.\n",
              "// See the License for the specific language governing permissions and\n",
              "// limitations under the License.\n",
              "\n",
              "/**\n",
              " * @fileoverview Helpers for google.colab Python module.\n",
              " */\n",
              "(function(scope) {\n",
              "function span(text, styleAttributes = {}) {\n",
              "  const element = document.createElement('span');\n",
              "  element.textContent = text;\n",
              "  for (const key of Object.keys(styleAttributes)) {\n",
              "    element.style[key] = styleAttributes[key];\n",
              "  }\n",
              "  return element;\n",
              "}\n",
              "\n",
              "// Max number of bytes which will be uploaded at a time.\n",
              "const MAX_PAYLOAD_SIZE = 100 * 1024;\n",
              "\n",
              "function _uploadFiles(inputId, outputId) {\n",
              "  const steps = uploadFilesStep(inputId, outputId);\n",
              "  const outputElement = document.getElementById(outputId);\n",
              "  // Cache steps on the outputElement to make it available for the next call\n",
              "  // to uploadFilesContinue from Python.\n",
              "  outputElement.steps = steps;\n",
              "\n",
              "  return _uploadFilesContinue(outputId);\n",
              "}\n",
              "\n",
              "// This is roughly an async generator (not supported in the browser yet),\n",
              "// where there are multiple asynchronous steps and the Python side is going\n",
              "// to poll for completion of each step.\n",
              "// This uses a Promise to block the python side on completion of each step,\n",
              "// then passes the result of the previous step as the input to the next step.\n",
              "function _uploadFilesContinue(outputId) {\n",
              "  const outputElement = document.getElementById(outputId);\n",
              "  const steps = outputElement.steps;\n",
              "\n",
              "  const next = steps.next(outputElement.lastPromiseValue);\n",
              "  return Promise.resolve(next.value.promise).then((value) => {\n",
              "    // Cache the last promise value to make it available to the next\n",
              "    // step of the generator.\n",
              "    outputElement.lastPromiseValue = value;\n",
              "    return next.value.response;\n",
              "  });\n",
              "}\n",
              "\n",
              "/**\n",
              " * Generator function which is called between each async step of the upload\n",
              " * process.\n",
              " * @param {string} inputId Element ID of the input file picker element.\n",
              " * @param {string} outputId Element ID of the output display.\n",
              " * @return {!Iterable<!Object>} Iterable of next steps.\n",
              " */\n",
              "function* uploadFilesStep(inputId, outputId) {\n",
              "  const inputElement = document.getElementById(inputId);\n",
              "  inputElement.disabled = false;\n",
              "\n",
              "  const outputElement = document.getElementById(outputId);\n",
              "  outputElement.innerHTML = '';\n",
              "\n",
              "  const pickedPromise = new Promise((resolve) => {\n",
              "    inputElement.addEventListener('change', (e) => {\n",
              "      resolve(e.target.files);\n",
              "    });\n",
              "  });\n",
              "\n",
              "  const cancel = document.createElement('button');\n",
              "  inputElement.parentElement.appendChild(cancel);\n",
              "  cancel.textContent = 'Cancel upload';\n",
              "  const cancelPromise = new Promise((resolve) => {\n",
              "    cancel.onclick = () => {\n",
              "      resolve(null);\n",
              "    };\n",
              "  });\n",
              "\n",
              "  // Wait for the user to pick the files.\n",
              "  const files = yield {\n",
              "    promise: Promise.race([pickedPromise, cancelPromise]),\n",
              "    response: {\n",
              "      action: 'starting',\n",
              "    }\n",
              "  };\n",
              "\n",
              "  cancel.remove();\n",
              "\n",
              "  // Disable the input element since further picks are not allowed.\n",
              "  inputElement.disabled = true;\n",
              "\n",
              "  if (!files) {\n",
              "    return {\n",
              "      response: {\n",
              "        action: 'complete',\n",
              "      }\n",
              "    };\n",
              "  }\n",
              "\n",
              "  for (const file of files) {\n",
              "    const li = document.createElement('li');\n",
              "    li.append(span(file.name, {fontWeight: 'bold'}));\n",
              "    li.append(span(\n",
              "        `(${file.type || 'n/a'}) - ${file.size} bytes, ` +\n",
              "        `last modified: ${\n",
              "            file.lastModifiedDate ? file.lastModifiedDate.toLocaleDateString() :\n",
              "                                    'n/a'} - `));\n",
              "    const percent = span('0% done');\n",
              "    li.appendChild(percent);\n",
              "\n",
              "    outputElement.appendChild(li);\n",
              "\n",
              "    const fileDataPromise = new Promise((resolve) => {\n",
              "      const reader = new FileReader();\n",
              "      reader.onload = (e) => {\n",
              "        resolve(e.target.result);\n",
              "      };\n",
              "      reader.readAsArrayBuffer(file);\n",
              "    });\n",
              "    // Wait for the data to be ready.\n",
              "    let fileData = yield {\n",
              "      promise: fileDataPromise,\n",
              "      response: {\n",
              "        action: 'continue',\n",
              "      }\n",
              "    };\n",
              "\n",
              "    // Use a chunked sending to avoid message size limits. See b/62115660.\n",
              "    let position = 0;\n",
              "    do {\n",
              "      const length = Math.min(fileData.byteLength - position, MAX_PAYLOAD_SIZE);\n",
              "      const chunk = new Uint8Array(fileData, position, length);\n",
              "      position += length;\n",
              "\n",
              "      const base64 = btoa(String.fromCharCode.apply(null, chunk));\n",
              "      yield {\n",
              "        response: {\n",
              "          action: 'append',\n",
              "          file: file.name,\n",
              "          data: base64,\n",
              "        },\n",
              "      };\n",
              "\n",
              "      let percentDone = fileData.byteLength === 0 ?\n",
              "          100 :\n",
              "          Math.round((position / fileData.byteLength) * 100);\n",
              "      percent.textContent = `${percentDone}% done`;\n",
              "\n",
              "    } while (position < fileData.byteLength);\n",
              "  }\n",
              "\n",
              "  // All done.\n",
              "  yield {\n",
              "    response: {\n",
              "      action: 'complete',\n",
              "    }\n",
              "  };\n",
              "}\n",
              "\n",
              "scope.google = scope.google || {};\n",
              "scope.google.colab = scope.google.colab || {};\n",
              "scope.google.colab._files = {\n",
              "  _uploadFiles,\n",
              "  _uploadFilesContinue,\n",
              "};\n",
              "})(self);\n",
              "</script> "
            ]
          },
          "metadata": {}
        },
        {
          "output_type": "stream",
          "name": "stdout",
          "text": [
            "Saving download.png to download.png\n",
            "\u001b[1m1/1\u001b[0m \u001b[32m━━━━━━━━━━━━━━━━━━━━\u001b[0m\u001b[37m\u001b[0m \u001b[1m0s\u001b[0m 98ms/step\n"
          ]
        },
        {
          "output_type": "display_data",
          "data": {
            "text/plain": [
              "<PIL.PngImagePlugin.PngImageFile image mode=RGB size=259x194>"
            ],
            "image/png": "[encoded data removed]"
          },
          "metadata": {}
        },
        {
          "name": "stdout",
          "output_type": "stream",
          "text": [
            "Uploaded image: download.png\n",
            "Buoy Type: Region A red port lateral mark\n",
            "Description: Port is left and associated with the colour red and cylinder shape in Region A. On the way into a harbour we will keep the red marks to the left (port) side of our ship or boat to travel safely within the channel opposite when exiting the harbour or channel.\n",
            "Action: Keep buoy to your left when entering harbor or channel.\n",
            "Upload another image for classification or type 'exit' to stop: exit\n"
          ]
        }
      ],
      "source": [
        "upload_and_classify()\n",
        "\n",
        "\n",
        "while True:\n",
        "    user_input = input(\"Upload another image for classification or type 'exit' to stop: \")\n",
        "    if user_input.lower() == 'exit':\n",
        "        break\n",
        "    else:\n",
        "        upload_and_classify()\n"
      ]
    }
  ]
}